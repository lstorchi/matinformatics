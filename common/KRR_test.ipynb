{
 "cells": [
  {
   "cell_type": "code",
   "execution_count": 1,
   "metadata": {},
   "outputs": [],
   "source": [
    "import math\n",
    "import numpy as np\n",
    "import pandas as pd\n",
    "\n",
    "from sklearn import linear_model \n",
    "from sklearn.kernel_ridge import KernelRidge\n",
    "from sklearn.metrics import mean_squared_error\n",
    "from sklearn.metrics import mean_absolute_error\n",
    "from sklearn.model_selection import train_test_split\n",
    "\n",
    "from dataclasses import dataclass"
   ]
  },
  {
   "cell_type": "code",
   "execution_count": 2,
   "metadata": {},
   "outputs": [],
   "source": [
    "dataset_material = pd.read_excel('Data_Ghiringhelli.xlsx', 'Material Data')\n",
    "dataset_atomic = pd.read_excel('Data_Ghiringhelli.xlsx',   'Atomic Data')\n",
    "dataset_atomic.columns = ['Z', 'A', 'IP', 'EA', 'HOMO', 'LUMO', 'rs', 'rp', 'rd', '1D']"
   ]
  },
  {
   "cell_type": "code",
   "execution_count": 3,
   "metadata": {},
   "outputs": [],
   "source": [
    "def get_row(element,dataframe):\n",
    "    return (dataframe.loc[dataframe['A']==element])\n",
    "\n",
    "def collecting_descriptor(a,b, dataframe=dataset_atomic):\n",
    "    row_a = get_row(element=a, dataframe=dataframe)\n",
    "    row_b = get_row(element=b, dataframe=dataframe)\n",
    "    return row_a,row_b\n",
    "\n",
    "def get_feature(dataframe=dataset_material):\n",
    "    feature_array = []\n",
    "    for kk in range(len(dataframe.values)):\n",
    "        el_a,el_b   = (dataframe.values)[kk][2:4]\n",
    "        row_a,row_b = collecting_descriptor(a=el_a, b=el_b)\n",
    "        res = formula(row_a, row_b)\n",
    "        feature_array.append(res[0])\n",
    "    return np.array(feature_array).reshape(-1,1)"
   ]
  },
  {
   "cell_type": "code",
   "execution_count": 4,
   "metadata": {},
   "outputs": [],
   "source": [
    "# Luca descriptor\n",
    "def formula(a,b):\n",
    "    return ((b['EA'].values-b['IP'].values)/(a['rp'].values**2))"
   ]
  },
  {
   "cell_type": "code",
   "execution_count": 5,
   "metadata": {},
   "outputs": [],
   "source": [
    "X = get_feature()\n",
    "y = dataset_material['DE'].values"
   ]
  },
  {
   "cell_type": "markdown",
   "metadata": {},
   "source": [
    "### Checking with linear model"
   ]
  },
  {
   "cell_type": "code",
   "execution_count": 6,
   "metadata": {},
   "outputs": [],
   "source": [
    "from sklearn.model_selection import cross_val_score\n",
    "from sklearn.linear_model import LinearRegression\n",
    "\n",
    "lin_regressior = LinearRegression()\n",
    "mse = cross_val_score(lin_regressior, X, dataset_material['DE'].values, scoring='neg_mean_squared_error',cv=8)"
   ]
  },
  {
   "cell_type": "code",
   "execution_count": 7,
   "metadata": {},
   "outputs": [
    {
     "data": {
      "text/plain": [
       "0.021040010378385838"
      ]
     },
     "execution_count": 7,
     "metadata": {},
     "output_type": "execute_result"
    }
   ],
   "source": [
    "abs(np.mean(mse))"
   ]
  },
  {
   "cell_type": "markdown",
   "metadata": {},
   "source": [
    "### checking with Ridge regressor"
   ]
  },
  {
   "cell_type": "code",
   "execution_count": 8,
   "metadata": {},
   "outputs": [
    {
     "data": {
      "text/plain": [
       "GridSearchCV(cv=8, error_score=nan,\n",
       "             estimator=Ridge(alpha=1.0, copy_X=True, fit_intercept=True,\n",
       "                             max_iter=None, normalize=False, random_state=None,\n",
       "                             solver='auto', tol=0.001),\n",
       "             iid='deprecated', n_jobs=None,\n",
       "             param_grid={'alpha': [0.0001, 0.001, 0.01, 0.1, 1, 10, 100, 1000]},\n",
       "             pre_dispatch='2*n_jobs', refit=True, return_train_score=False,\n",
       "             scoring='neg_mean_squared_error', verbose=0)"
      ]
     },
     "execution_count": 8,
     "metadata": {},
     "output_type": "execute_result"
    }
   ],
   "source": [
    "from sklearn.model_selection import GridSearchCV\n",
    "from sklearn.linear_model import Ridge\n",
    "\n",
    "ridge = Ridge()\n",
    "parameters = {'alpha':[0.0001,0.001,0.01,0.1,1,10,100,1000]}\n",
    "ridge_regressor = GridSearchCV(ridge, parameters, scoring='neg_mean_squared_error', cv=8)\n",
    "ridge_regressor.fit(X,dataset_material['DE'].values)"
   ]
  },
  {
   "cell_type": "code",
   "execution_count": 9,
   "metadata": {},
   "outputs": [
    {
     "name": "stdout",
     "output_type": "stream",
     "text": [
      "{'alpha': 1}\n",
      "-0.02103844380947445\n"
     ]
    }
   ],
   "source": [
    "print(ridge_regressor.best_params_)\n",
    "print(ridge_regressor.best_score_)"
   ]
  },
  {
   "cell_type": "code",
   "execution_count": 10,
   "metadata": {},
   "outputs": [
    {
     "name": "stdout",
     "output_type": "stream",
     "text": [
      "avg rmse =  0.021409625262275345\n"
     ]
    }
   ],
   "source": [
    "mse = []\n",
    "for ii in range(100):\n",
    "    X_train, X_test, y_train, y_test = train_test_split(X, dataset_material['DE'].values, test_size=0.1, random_state=ii)\n",
    "    regressor = LinearRegression()\n",
    "    regressor.fit((np.array(X_train)).reshape(-1,1), y_train)\n",
    "    y_pred = regressor.predict((np.array(X_test)).reshape(-1,1))\n",
    "    mse.append(mean_squared_error(y_test,y_pred))\n",
    "avg = float(np.average(mse))\n",
    "print('avg rmse = ',avg)"
   ]
  },
  {
   "cell_type": "code",
   "execution_count": 11,
   "metadata": {},
   "outputs": [],
   "source": [
    "grid_array = []\n",
    "alpha_lst  = [0.0001, 0.001, 0.01, 0.1, 1, 10, 100, 1000]\n",
    "for ii in range(1000):\n",
    "    temp = []\n",
    "    X_train, X_test, y_train, y_test = train_test_split(X, dataset_material['DE'].values, test_size=0.1, random_state=ii)\n",
    "    for jj in alpha_lst:\n",
    "        regressor = Ridge(alpha=jj)\n",
    "        regressor.fit((np.array(X_train)).reshape(-1,1), y_train)\n",
    "        y_pred = regressor.predict((np.array(X_test)).reshape(-1,1))\n",
    "        temp.append(mean_squared_error(y_test,y_pred))\n",
    "    grid_array.append(temp)\n",
    "grid_array = np.array(grid_array)"
   ]
  },
  {
   "cell_type": "code",
   "execution_count": 12,
   "metadata": {},
   "outputs": [],
   "source": [
    "alpha_dict = dict()\n",
    "for i in range(len(grid_array[0])):\n",
    "    alpha_dict[str(alpha_lst[i])] = []\n",
    "    alpha_dict[str(alpha_lst[i])].append(np.average(grid_array[:,i]))"
   ]
  },
  {
   "cell_type": "code",
   "execution_count": 13,
   "metadata": {},
   "outputs": [
    {
     "data": {
      "text/plain": [
       "{'0.0001': [0.021190747706989463],\n",
       " '0.001': [0.021190753454091528],\n",
       " '0.01': [0.02119081096252875],\n",
       " '0.1': [0.021191389787222462],\n",
       " '1': [0.021197550734853975],\n",
       " '10': [0.021295136229432444],\n",
       " '100': [0.02486780167633814],\n",
       " '1000': [0.08625952509223439]}"
      ]
     },
     "execution_count": 13,
     "metadata": {},
     "output_type": "execute_result"
    }
   ],
   "source": [
    "alpha_dict"
   ]
  },
  {
   "cell_type": "markdown",
   "metadata": {},
   "source": [
    "### Cheking with Lasso"
   ]
  },
  {
   "cell_type": "code",
   "execution_count": 14,
   "metadata": {},
   "outputs": [
    {
     "data": {
      "text/plain": [
       "GridSearchCV(cv=8, error_score=nan,\n",
       "             estimator=Lasso(alpha=1.0, copy_X=True, fit_intercept=True,\n",
       "                             max_iter=1000, normalize=False, positive=False,\n",
       "                             precompute=False, random_state=None,\n",
       "                             selection='cyclic', tol=0.0001, warm_start=False),\n",
       "             iid='deprecated', n_jobs=None,\n",
       "             param_grid={'alpha': [0.0001, 0.001, 0.01, 0.1, 1, 10, 100, 1000]},\n",
       "             pre_dispatch='2*n_jobs', refit=True, return_train_score=False,\n",
       "             scoring='neg_mean_squared_error', verbose=0)"
      ]
     },
     "execution_count": 14,
     "metadata": {},
     "output_type": "execute_result"
    }
   ],
   "source": [
    "from sklearn.model_selection import GridSearchCV\n",
    "from sklearn.linear_model import Lasso\n",
    "\n",
    "lasso = Lasso()\n",
    "parameters = {'alpha':[0.0001,0.001,0.01,0.1,1,10,100,1000]}\n",
    "lasso_regressor = GridSearchCV(lasso, parameters, scoring='neg_mean_squared_error', cv=8)\n",
    "lasso_regressor.fit(X,dataset_material['DE'].values)"
   ]
  },
  {
   "cell_type": "code",
   "execution_count": 15,
   "metadata": {},
   "outputs": [
    {
     "name": "stdout",
     "output_type": "stream",
     "text": [
      "{'alpha': 0.001}\n",
      "-0.021039205538824796\n"
     ]
    }
   ],
   "source": [
    "print(lasso_regressor.best_params_)\n",
    "print(lasso_regressor.best_score_)"
   ]
  },
  {
   "cell_type": "code",
   "execution_count": 16,
   "metadata": {},
   "outputs": [],
   "source": [
    "from sklearn.model_selection import train_test_split\n",
    "X_train, X_test, y_train, y_test = train_test_split(X,y,test_size=0.1,random_state=0)"
   ]
  },
  {
   "cell_type": "code",
   "execution_count": 17,
   "metadata": {},
   "outputs": [],
   "source": [
    "ridge_prediction = ridge_regressor.predict(X_test)\n",
    "lasso_prediction = lasso_regressor.predict(X_test)"
   ]
  },
  {
   "cell_type": "code",
   "execution_count": 18,
   "metadata": {},
   "outputs": [
    {
     "data": {
      "text/plain": [
       "<matplotlib.axes._subplots.AxesSubplot at 0x7f2fe771e3d0>"
      ]
     },
     "execution_count": 18,
     "metadata": {},
     "output_type": "execute_result"
    },
    {
     "data": {
      "image/png": "[encoded data removed]",
      "text/plain": [
       "<Figure size 432x288 with 1 Axes>"
      ]
     },
     "metadata": {
      "needs_background": "light"
     },
     "output_type": "display_data"
    }
   ],
   "source": [
    "import seaborn as sns\n",
    "sns.distplot(y_test-lasso_prediction)"
   ]
  },
  {
   "cell_type": "code",
   "execution_count": 19,
   "metadata": {},
   "outputs": [
    {
     "data": {
      "text/plain": [
       "<matplotlib.axes._subplots.AxesSubplot at 0x7f2fe6aaf750>"
      ]
     },
     "execution_count": 19,
     "metadata": {},
     "output_type": "execute_result"
    },
    {
     "data": {
      "image/png": "[encoded data removed]",
      "text/plain": [
       "<Figure size 432x288 with 1 Axes>"
      ]
     },
     "metadata": {
      "needs_background": "light"
     },
     "output_type": "display_data"
    }
   ],
   "source": [
    "import seaborn as sns\n",
    "sns.distplot(y_test-ridge_prediction)"
   ]
  },
  {
   "cell_type": "markdown",
   "metadata": {},
   "source": [
    "### KRR"
   ]
  },
  {
   "cell_type": "code",
   "execution_count": 20,
   "metadata": {},
   "outputs": [],
   "source": [
    "from sklearn.kernel_ridge import KernelRidge\n",
    "regressor = KernelRidge(alpha = 0.001, kernel='rbf', gamma = 0.001)"
   ]
  },
  {
   "cell_type": "code",
   "execution_count": 21,
   "metadata": {},
   "outputs": [
    {
     "data": {
      "text/plain": [
       "KernelRidge(alpha=0.001, coef0=1, degree=3, gamma=0.001, kernel='rbf',\n",
       "            kernel_params=None)"
      ]
     },
     "execution_count": 21,
     "metadata": {},
     "output_type": "execute_result"
    }
   ],
   "source": [
    "regressor.fit(X_train,y_train)"
   ]
  },
  {
   "cell_type": "code",
   "execution_count": 22,
   "metadata": {},
   "outputs": [
    {
     "data": {
      "text/plain": [
       "array([-0.15259916, -0.08467925, -0.0670093 ,  0.1681122 ,  1.60650098,\n",
       "        0.41457156,  0.05332626, -0.17536728,  0.23412942])"
      ]
     },
     "execution_count": 22,
     "metadata": {},
     "output_type": "execute_result"
    }
   ],
   "source": [
    "regressor.predict(X_test)"
   ]
  },
  {
   "cell_type": "code",
   "execution_count": 23,
   "metadata": {},
   "outputs": [
    {
     "data": {
      "text/plain": [
       "0.013532070973557662"
      ]
     },
     "execution_count": 23,
     "metadata": {},
     "output_type": "execute_result"
    }
   ],
   "source": [
    "mean_squared_error(y_test,regressor.predict(X_test))"
   ]
  },
  {
   "cell_type": "code",
   "execution_count": 24,
   "metadata": {},
   "outputs": [],
   "source": [
    "grid_array = []\n",
    "alpha_lst  = [3.0e-4]\n",
    "gamma_list = [1.0 / 3000]\n",
    "for jj in alpha_lst:\n",
    "    temp2 = []\n",
    "    for kk in gamma_list:\n",
    "        temp = []\n",
    "        for ii in range(1000):\n",
    "            X_train, X_test, y_train, y_test = train_test_split(X, dataset_material['DE'].values, test_size=0.1, random_state=ii)\n",
    "            regressor = KernelRidge(alpha = jj, kernel='rbf', gamma = kk)\n",
    "            regressor.fit((np.array(X_train)).reshape(-1,1), y_train)\n",
    "            y_pred = regressor.predict((np.array(X_test)).reshape(-1,1))\n",
    "            temp.append(mean_squared_error(y_test,y_pred))\n",
    "        temp2.append(temp)\n",
    "    grid_array.append(temp2)\n",
    "grid_array = np.array(grid_array)"
   ]
  },
  {
   "cell_type": "code",
   "execution_count": 25,
   "metadata": {},
   "outputs": [],
   "source": [
    "save_min = []\n",
    "for ii in range(len(grid_array)):\n",
    "    for jj in range(len(grid_array[ii])):\n",
    "        save_min.append(np.average(grid_array[ii][jj]))"
   ]
  },
  {
   "cell_type": "code",
   "execution_count": 26,
   "metadata": {
    "scrolled": true
   },
   "outputs": [
    {
     "data": {
      "text/plain": [
       "[0.023131288459565105]"
      ]
     },
     "execution_count": 26,
     "metadata": {},
     "output_type": "execute_result"
    }
   ],
   "source": [
    "save_min"
   ]
  },
  {
   "cell_type": "code",
   "execution_count": null,
   "metadata": {},
   "outputs": [],
   "source": []
  }
 ],
 "metadata": {
  "kernelspec": {
   "display_name": "Python 3",
   "language": "python",
   "name": "python3"
  },
  "language_info": {
   "codemirror_mode": {
    "name": "ipython",
    "version": 3
   },
   "file_extension": ".py",
   "mimetype": "text/x-python",
   "name": "python",
   "nbconvert_exporter": "python",
   "pygments_lexer": "ipython3",
   "version": "3.7.6"
  }
 },
 "nbformat": 4,
 "nbformat_minor": 4
}
