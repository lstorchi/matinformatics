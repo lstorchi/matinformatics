{
 "cells": [
  {
   "cell_type": "code",
   "execution_count": 1,
   "metadata": {
    "ExecuteTime": {
     "end_time": "2020-04-24T11:30:24.163317Z",
     "start_time": "2020-04-24T11:30:23.420529Z"
    }
   },
   "outputs": [
    {
     "data": {
      "text/plain": [
       "<Figure size 640x480 with 0 Axes>"
      ]
     },
     "metadata": {},
     "output_type": "display_data"
    }
   ],
   "source": [
    "# Importing the libraries\n",
    "import numpy as np\n",
    "import matplotlib.pyplot as plt\n",
    "import pandas as pd\n",
    "pd.options.display.max_rows = 120\n",
    "import matplotlib as mpl\n",
    "import sys\n",
    "from matplotlib.pyplot import figure\n",
    "figure(num=None, figsize=(8, 6), dpi=80, facecolor='w', edgecolor='k')\n",
    "from sklearn.model_selection import train_test_split\n",
    "from sklearn.linear_model import LinearRegression\n",
    "from sklearn.metrics import mean_squared_error"
   ]
  },
  {
   "cell_type": "code",
   "execution_count": 2,
   "metadata": {
    "ExecuteTime": {
     "end_time": "2020-04-24T11:30:28.390031Z",
     "start_time": "2020-04-24T11:30:24.165554Z"
    }
   },
   "outputs": [],
   "source": [
    "dataset_material = pd.read_excel('Data_Ghiringhelli.xlsx', 'Material Data')\n",
    "dataset_atomic = pd.read_excel('Data_Ghiringhelli.xlsx',   'Atomic Data')\n",
    "dataset_atomic.columns = ['Z', 'A', 'IP', 'EA', 'HOMO', 'LUMO', 'rs', 'rp', 'rd', '1D']\n",
    "dataset_features = pd.read_csv('Feature_data.csv')\n",
    "dataset_features = dataset_features.round(6)"
   ]
  },
  {
   "cell_type": "code",
   "execution_count": 3,
   "metadata": {
    "ExecuteTime": {
     "end_time": "2020-04-24T11:30:28.439537Z",
     "start_time": "2020-04-24T11:30:28.391909Z"
    }
   },
   "outputs": [],
   "source": [
    "dataset_atomic_array = pd.DataFrame(dataset_atomic).to_numpy()\n",
    "prop_A, prop_B = [],[]\n",
    "for index, row in dataset_material.iterrows():\n",
    "    A = np.where(dataset_atomic_array[:,1]==dataset_material['A'][index])\n",
    "    B = np.where(dataset_atomic_array[:,1]==dataset_material['B'][index])\n",
    "\n",
    "    prop_A.append(dataset_atomic_array[A[0][0]][2:])\n",
    "    prop_B.append(dataset_atomic_array[B[0][0]][2:])        \n",
    "\n",
    "all_data = dataset_material.copy()\n",
    "for index,keys in enumerate(dataset_atomic.keys()[2:-1]): #because first two para is A and B which we took care in previous cell\n",
    "    all_data.insert(4, 'B_{}'.format(keys), [i[index] for i in prop_B], True)\n",
    "    all_data.insert(4, 'A_{}'.format(keys), [l[index] for l in prop_A], True)\n",
    "\n",
    "temp = []\n",
    "for ii in list(all_data['Classification'].values):\n",
    "    if ii == 'RS1' or ii == 'RS2' or ii == 'RS3':\n",
    "        temp.append('RS')\n",
    "    elif ii == 'ZB1' or ii == 'ZB2' or ii == 'ZB3':\n",
    "        temp.append('ZB')\n",
    "    elif ii=='N':\n",
    "        temp.append('N')        \n",
    "\n",
    "all_data['Classification'] = temp"
   ]
  },
  {
   "cell_type": "code",
   "execution_count": 4,
   "metadata": {
    "ExecuteTime": {
     "end_time": "2020-04-24T11:30:28.452984Z",
     "start_time": "2020-04-24T11:30:28.442347Z"
    }
   },
   "outputs": [],
   "source": [
    "import scipy\n",
    "def feature_check_lr(feature_list_indexes, dataset_features, y_array):\n",
    "\n",
    "    minvalue = float(\"inf\")\n",
    "    bestformula = \"\"\n",
    "    fd = dict()\n",
    "\n",
    "    fd['formulas'] = []\n",
    "    fd['index']    = []\n",
    "    fd['rmse']     = []\n",
    "    fd['percoeff'] = []\n",
    "    fd['pval']     = []\n",
    "    \n",
    "    dataset_keys = dataset_features.keys()[feature_list_indexes]\n",
    "    for jj,keys in enumerate(dataset_keys):\n",
    "            X = dataset_features[keys]\n",
    "            val1, val2 = scipy.stats.pearsonr(dataset_features[keys].values, y_array.values)\n",
    "            \n",
    "            mse = []\n",
    "            for ii in range(1000):\n",
    "                X_train, X_test, y_train, y_test = train_test_split(X, y_array, test_size=0.1, random_state=ii)\n",
    "                regressor = LinearRegression()\n",
    "                regressor.fit((np.array(X_train)).reshape(-1,1), y_train)\n",
    "                y_pred = regressor.predict((np.array(X_test)).reshape(-1,1))\n",
    "                mse.append(mean_squared_error(y_test,y_pred))\n",
    "\n",
    "            avg = float(np.average(mse))\n",
    "            if avg < minvalue:\n",
    "                minvalue = avg\n",
    "                bestformula = keys\n",
    "            #progress_bar(jj + 1, len(dataset_keys))\n",
    "            fd['formulas'].append(keys)\n",
    "            fd['index'].append(jj)\n",
    "            fd['rmse'].append(avg)\n",
    "            fd['percoeff'].append(val1)\n",
    "            fd['pval'].append(val2)\n",
    "\n",
    "    feature_rmse_dataframe = pd.DataFrame.from_dict(fd)\n",
    "    print(\"\")\n",
    "\n",
    "    return feature_rmse_dataframe, minvalue, bestformula"
   ]
  },
  {
   "cell_type": "code",
   "execution_count": 6,
   "metadata": {
    "ExecuteTime": {
     "end_time": "2020-04-24T11:31:28.637171Z",
     "start_time": "2020-04-24T11:31:14.232980Z"
    }
   },
   "outputs": [
    {
     "name": "stdout",
     "output_type": "stream",
     "text": [
      "\n"
     ]
    }
   ],
   "source": [
    "feature_rmse_dataframe, minvalue, bestformula = feature_check_lr(range(10), dataset_features, dataset_material['DE'])"
   ]
  },
  {
   "cell_type": "code",
   "execution_count": 7,
   "metadata": {
    "ExecuteTime": {
     "end_time": "2020-04-24T11:31:37.374607Z",
     "start_time": "2020-04-24T11:31:37.353441Z"
    }
   },
   "outputs": [
    {
     "data": {
      "text/html": [
       "<div>\n",
       "<style scoped>\n",
       "    .dataframe tbody tr th:only-of-type {\n",
       "        vertical-align: middle;\n",
       "    }\n",
       "\n",
       "    .dataframe tbody tr th {\n",
       "        vertical-align: top;\n",
       "    }\n",
       "\n",
       "    .dataframe thead th {\n",
       "        text-align: right;\n",
       "    }\n",
       "</style>\n",
       "<table border=\"1\" class=\"dataframe\">\n",
       "  <thead>\n",
       "    <tr style=\"text-align: right;\">\n",
       "      <th></th>\n",
       "      <th>formulas</th>\n",
       "      <th>index</th>\n",
       "      <th>rmse</th>\n",
       "      <th>percoeff</th>\n",
       "      <th>pval</th>\n",
       "    </tr>\n",
       "  </thead>\n",
       "  <tbody>\n",
       "    <tr>\n",
       "      <th>4</th>\n",
       "      <td>(EA_A + EA_B)/((EA_B**3))</td>\n",
       "      <td>4</td>\n",
       "      <td>0.178201</td>\n",
       "      <td>0.461423</td>\n",
       "      <td>0.000013</td>\n",
       "    </tr>\n",
       "  </tbody>\n",
       "</table>\n",
       "</div>"
      ],
      "text/plain": [
       "                    formulas  index      rmse  percoeff      pval\n",
       "4  (EA_A + EA_B)/((EA_B**3))      4  0.178201  0.461423  0.000013"
      ]
     },
     "execution_count": 7,
     "metadata": {},
     "output_type": "execute_result"
    }
   ],
   "source": [
    "feature_rmse_dataframe[feature_rmse_dataframe['pval'] == np.min(feature_rmse_dataframe['pval'].values)]"
   ]
  },
  {
   "cell_type": "code",
   "execution_count": 8,
   "metadata": {
    "ExecuteTime": {
     "end_time": "2020-04-24T11:31:38.409259Z",
     "start_time": "2020-04-24T11:31:38.404491Z"
    }
   },
   "outputs": [],
   "source": [
    "fd = feature_rmse_dataframe"
   ]
  },
  {
   "cell_type": "code",
   "execution_count": 9,
   "metadata": {
    "ExecuteTime": {
     "end_time": "2020-04-24T11:31:45.206969Z",
     "start_time": "2020-04-24T11:31:45.197733Z"
    }
   },
   "outputs": [
    {
     "data": {
      "text/plain": [
       "'(EA_A + EA_B)/((EA_A**3))'"
      ]
     },
     "execution_count": 9,
     "metadata": {},
     "output_type": "execute_result"
    }
   ],
   "source": [
    "fd[fd['rmse']==np.min(fd['rmse'].values)]['formulas'].values[0]"
   ]
  },
  {
   "cell_type": "code",
   "execution_count": 10,
   "metadata": {
    "ExecuteTime": {
     "end_time": "2020-04-24T11:31:45.715523Z",
     "start_time": "2020-04-24T11:31:45.700828Z"
    }
   },
   "outputs": [
    {
     "data": {
      "text/plain": [
       "0.1748856048943269"
      ]
     },
     "execution_count": 10,
     "metadata": {},
     "output_type": "execute_result"
    }
   ],
   "source": [
    "np.min(fd['rmse'].values)"
   ]
  },
  {
   "cell_type": "code",
   "execution_count": 11,
   "metadata": {
    "ExecuteTime": {
     "end_time": "2020-04-24T11:31:45.772086Z",
     "start_time": "2020-04-24T11:31:45.761939Z"
    }
   },
   "outputs": [
    {
     "data": {
      "text/plain": [
       "'(EA_A + EA_B)/((EA_B**3))'"
      ]
     },
     "execution_count": 11,
     "metadata": {},
     "output_type": "execute_result"
    }
   ],
   "source": [
    "fd[fd['percoeff']==np.max(fd['percoeff'].values)]['formulas'].values[0]"
   ]
  },
  {
   "cell_type": "code",
   "execution_count": 12,
   "metadata": {
    "ExecuteTime": {
     "end_time": "2020-04-24T11:31:45.826307Z",
     "start_time": "2020-04-24T11:31:45.812464Z"
    }
   },
   "outputs": [],
   "source": [
    "def feature_check_lr(feature_list_indexes, dataset_features, y_array):\n",
    "\n",
    "    minvalue = float(\"inf\")\n",
    "    bestformula = \"\"\n",
    "    fd = dict()\n",
    "\n",
    "    fd['formulas'] = []\n",
    "    fd['index']    = []\n",
    "    fd['rmse']     = []\n",
    "    fd['percoeff'] = []\n",
    "    fd['pval']     = []\n",
    "    \n",
    "    dataset_keys = dataset_features.keys()[feature_list_indexes]\n",
    "    for jj,keys in enumerate(dataset_keys):\n",
    "            X = dataset_features[keys]\n",
    "            val1, val2 = scipy.stats.pearsonr(dataset_features[keys].values, y_array.values)\n",
    "            \n",
    "            mse = []\n",
    "            for ii in range(1000):\n",
    "                X_train, X_test, y_train, y_test = train_test_split(X, y_array, test_size=0.1, random_state=ii)\n",
    "                regressor = LinearRegression()\n",
    "                regressor.fit((np.array(X_train)).reshape(-1,1), y_train)\n",
    "                y_pred = regressor.predict((np.array(X_test)).reshape(-1,1))\n",
    "                mse.append(mean_squared_error(y_test,y_pred))\n",
    "\n",
    "            avg = float(np.average(mse))\n",
    "            \n",
    "            fd['formulas'].append(keys)\n",
    "            fd['index'].append(jj)\n",
    "            fd['rmse'].append(avg)\n",
    "            fd['percoeff'].append(val1)\n",
    "            fd['pval'].append(val2)\n",
    "            \n",
    "    feature_rmse_dataframe = pd.DataFrame.from_dict(fd)\n",
    "    fd2 = feature_rmse_dataframe.copy()\n",
    "    \n",
    "    bestformula_lr = fd2[fd2['rmse']==np.min(fd2['rmse'].values)]['formulas'].values[0]\n",
    "    minvalue_lr    = np.min(fd2['rmse'].values)\n",
    "    #--------------------------------------------------------------\n",
    "    pearson_min    = np.max(fd2['percoeff'].values)\n",
    "    bestformula_pearson = fd2[fd2['percoeff']==np.max(fd2['percoeff'].values)]['formulas'].values[0]\n",
    "    #--------------------------------------------------------------\n",
    "\n",
    "    print(\"\")\n",
    "    \n",
    "    return feature_rmse_dataframe, ['From Linear regression :', minvalue_lr, bestformula_lr, 'From Pearson coeff :', pearson_min, bestformula_pearson]\n"
   ]
  },
  {
   "cell_type": "code",
   "execution_count": 13,
   "metadata": {
    "ExecuteTime": {
     "end_time": "2020-04-24T11:32:01.289746Z",
     "start_time": "2020-04-24T11:31:45.831869Z"
    }
   },
   "outputs": [
    {
     "name": "stdout",
     "output_type": "stream",
     "text": [
      "\n"
     ]
    }
   ],
   "source": [
    "feature_rmse_dataframe, bestformula = feature_check_lr(range(10), dataset_features, dataset_material['DE'])"
   ]
  },
  {
   "cell_type": "code",
   "execution_count": null,
   "metadata": {},
   "outputs": [],
   "source": []
  }
 ],
 "metadata": {
  "kernelspec": {
   "display_name": "Python 3",
   "language": "python",
   "name": "python3"
  },
  "language_info": {
   "codemirror_mode": {
    "name": "ipython",
    "version": 3
   },
   "file_extension": ".py",
   "mimetype": "text/x-python",
   "name": "python",
   "nbconvert_exporter": "python",
   "pygments_lexer": "ipython3",
   "version": "3.7.6"
  },
  "toc": {
   "base_numbering": 1,
   "nav_menu": {},
   "number_sections": true,
   "sideBar": true,
   "skip_h1_title": false,
   "title_cell": "Table of Contents",
   "title_sidebar": "Contents",
   "toc_cell": false,
   "toc_position": {},
   "toc_section_display": true,
   "toc_window_display": false
  }
 },
 "nbformat": 4,
 "nbformat_minor": 2
}
