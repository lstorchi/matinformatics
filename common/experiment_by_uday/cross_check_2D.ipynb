{
 "cells": [
  {
   "cell_type": "code",
   "execution_count": 16,
   "metadata": {},
   "outputs": [
    {
     "data": {
      "text/plain": [
       "<Figure size 640x480 with 0 Axes>"
      ]
     },
     "metadata": {},
     "output_type": "display_data"
    }
   ],
   "source": [
    "# Importing the libraries\n",
    "import numpy as np\n",
    "import matplotlib.pyplot as plt\n",
    "import pandas as pd\n",
    "pd.options.display.max_rows = 120\n",
    "import matplotlib as mpl\n",
    "import sys\n",
    "from matplotlib.pyplot import figure\n",
    "figure(num=None, figsize=(8, 6), dpi=80, facecolor='w', edgecolor='k')\n",
    "from sklearn.model_selection import train_test_split\n",
    "from sklearn.linear_model import LinearRegression\n",
    "from sklearn.metrics import mean_squared_error\n",
    "import scipy"
   ]
  },
  {
   "cell_type": "code",
   "execution_count": 17,
   "metadata": {},
   "outputs": [],
   "source": [
    "dataset_material = pd.read_excel('Data_Ghiringhelli.xlsx', 'Material Data')\n",
    "dataset_atomic = pd.read_excel('Data_Ghiringhelli.xlsx',   'Atomic Data')\n",
    "dataset_atomic.columns = ['Z', 'A', 'IP', 'EA', 'HOMO', 'LUMO', 'rs', 'rp', 'rd', '1D']"
   ]
  },
  {
   "cell_type": "code",
   "execution_count": 18,
   "metadata": {},
   "outputs": [],
   "source": [
    "def get_row(element,dataframe):\n",
    "    return (dataframe.loc[dataframe['A']==element])\n",
    "\n",
    "def collecting_descriptor(a,b, dataframe=dataset_atomic):\n",
    "    row_a = get_row(element=a, dataframe=dataframe)\n",
    "    row_b = get_row(element=b, dataframe=dataframe)\n",
    "    return row_a,row_b"
   ]
  },
  {
   "cell_type": "code",
   "execution_count": 19,
   "metadata": {},
   "outputs": [],
   "source": [
    "def formula(a,b):\n",
    "    return [(a['rs'].values**2 + np.exp(a['rs'].values))/a['rs'].values**2 , (a['rd'].values - b['rp'].values**3) / a['rp'].values**3]"
   ]
  },
  {
   "cell_type": "code",
   "execution_count": 20,
   "metadata": {},
   "outputs": [],
   "source": [
    "#('(rp_B**3 - exp(rp_A))/((rp_A**3))', '(rp_A**2 -sqrt(fabs(rd_A)))/(exp(rp_A))')\n",
    "def formula(a,b):\n",
    "    return [(b['rp'].values**3 - np.exp(a['rp'].values))/a['rp'].values**3 / (a['rp'].values**2-np.sqrt(abs(a['rd'].values)))/np.exp(a['rp'].values)]"
   ]
  },
  {
   "cell_type": "code",
   "execution_count": 25,
   "metadata": {},
   "outputs": [],
   "source": [
    "def formula(a,b):\n",
    "    return [(b['IP'].values-b['EA'].values)/a['rp'].values**2, abs(a['rs'].values-b['rp'].values)/np.exp((a['rs'].values))]"
   ]
  },
  {
   "cell_type": "code",
   "execution_count": 26,
   "metadata": {},
   "outputs": [],
   "source": [
    "def cross_check(dataframe=dataset_material, y_array=dataset_material['DE'].values):\n",
    "    feature_array, val1, val2 = [],[],[]\n",
    "    for kk in range(len(dataframe.values)):\n",
    "        el_a,el_b   = (dataframe.values)[kk][2:4]\n",
    "        row_a,row_b = collecting_descriptor(a=el_a, b=el_b)\n",
    "        res = formula(row_a, row_b)\n",
    "        feature_array.append(res)\n",
    "    return feature_array"
   ]
  },
  {
   "cell_type": "code",
   "execution_count": 27,
   "metadata": {},
   "outputs": [],
   "source": [
    "aar = np.array(cross_check())\n",
    "n_samp, nx, ny = np.shape(aar)\n",
    "feature_array = aar.reshape((n_samp,nx*ny))"
   ]
  },
  {
   "cell_type": "code",
   "execution_count": 28,
   "metadata": {},
   "outputs": [
    {
     "name": "stdout",
     "output_type": "stream",
     "text": [
      "avg rmse =  0.010840896048690563\n"
     ]
    }
   ],
   "source": [
    "mse = []\n",
    "for ii in range(1000):\n",
    "    X_train, X_test, y_train, y_test = train_test_split(feature_array,dataset_material['DE'].values, test_size=0.1, random_state=ii)\n",
    "    regressor = LinearRegression()\n",
    "    regressor.fit(X_train, y_train)\n",
    "    y_pred = regressor.predict(X_test)\n",
    "    mse.append(mean_squared_error(y_test,y_pred))\n",
    "avg = float(np.average(mse))\n",
    "print('avg rmse = ',avg)"
   ]
  },
  {
   "cell_type": "code",
   "execution_count": 35,
   "metadata": {},
   "outputs": [
    {
     "name": "stdout",
     "output_type": "stream",
     "text": [
      "1 pearson_coeff :-  0.8982560327555467\n",
      "1 p_value :-  2.6848323416519622e-30\n"
     ]
    }
   ],
   "source": [
    "for i in range(len(feature_array[0])):\n",
    "    val_1, val_2 = scipy.stats.pearsonr(feature_array[:,i], dataset_material['DE'].values)\n",
    "    print(i+1,'pearson_coeff :- ',val_1)\n",
    "    print(i+1,'p_value :- ',val_2)"
   ]
  },
  {
   "cell_type": "code",
   "execution_count": null,
   "metadata": {},
   "outputs": [],
   "source": []
  }
 ],
 "metadata": {
  "kernelspec": {
   "display_name": "Python 3",
   "language": "python",
   "name": "python3"
  },
  "language_info": {
   "codemirror_mode": {
    "name": "ipython",
    "version": 3
   },
   "file_extension": ".py",
   "mimetype": "text/x-python",
   "name": "python",
   "nbconvert_exporter": "python",
   "pygments_lexer": "ipython3",
   "version": "3.7.6"
  }
 },
 "nbformat": 4,
 "nbformat_minor": 4
}
