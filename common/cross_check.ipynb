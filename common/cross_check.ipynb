{
 "cells": [
  {
   "cell_type": "code",
   "execution_count": 2,
   "metadata": {
    "ExecuteTime": {
     "end_time": "2020-03-30T20:13:58.786529Z",
     "start_time": "2020-03-30T20:13:54.642232Z"
    }
   },
   "outputs": [
    {
     "data": {
      "text/plain": [
       "<Figure size 640x480 with 0 Axes>"
      ]
     },
     "metadata": {},
     "output_type": "display_data"
    }
   ],
   "source": [
    "# Importing the libraries\n",
    "import numpy as np\n",
    "import matplotlib.pyplot as plt\n",
    "import pandas as pd\n",
    "pd.options.display.max_rows = 120\n",
    "import matplotlib as mpl\n",
    "import sys\n",
    "from matplotlib.pyplot import figure\n",
    "figure(num=None, figsize=(8, 6), dpi=80, facecolor='w', edgecolor='k')\n",
    "from sklearn.model_selection import train_test_split\n",
    "from sklearn.linear_model import LinearRegression\n",
    "from sklearn.metrics import mean_squared_error\n",
    "import scipy"
   ]
  },
  {
   "cell_type": "code",
   "execution_count": 3,
   "metadata": {
    "ExecuteTime": {
     "end_time": "2020-03-30T20:13:58.965611Z",
     "start_time": "2020-03-30T20:13:58.790222Z"
    }
   },
   "outputs": [],
   "source": [
    "dataset_material = pd.read_excel('Data_Ghiringhelli.xlsx', 'Material Data')\n",
    "dataset_atomic = pd.read_excel('Data_Ghiringhelli.xlsx',   'Atomic Data')\n",
    "dataset_atomic.columns = ['Z', 'A', 'IP', 'EA', 'HOMO', 'LUMO', 'rs', 'rp', 'rd', '1D']"
   ]
  },
  {
   "cell_type": "code",
   "execution_count": 4,
   "metadata": {
    "ExecuteTime": {
     "end_time": "2020-03-30T20:13:58.995231Z",
     "start_time": "2020-03-30T20:13:58.969526Z"
    }
   },
   "outputs": [],
   "source": [
    "def get_row(element,dataframe):\n",
    "    return (dataframe.loc[dataframe['A']==element])\n",
    "\n",
    "def collecting_descriptor(a,b, dataframe=dataset_atomic):\n",
    "    row_a = get_row(element=a, dataframe=dataframe)\n",
    "    row_b = get_row(element=b, dataframe=dataframe)\n",
    "    return row_a,row_b\n",
    "\n",
    "def cross_check(dataframe=dataset_material, y_array=dataset_material['DE'].values):\n",
    "    feature_array = []\n",
    "    for kk in range(len(dataframe.values)):\n",
    "        el_a,el_b   = (dataframe.values)[kk][2:4]\n",
    "        row_a,row_b = collecting_descriptor(a=el_a, b=el_b)\n",
    "        res = formula(row_a, row_b)\n",
    "        feature_array.append(res[0])\n",
    "     \n",
    "    feature_array = np.array(feature_array).reshape(-1,1)\n",
    "    val1, val2 = scipy.stats.pearsonr(feature_array.flatten(), y_array)\n",
    "    mse = []\n",
    "    for ii in range(10):\n",
    "        X_train, X_test, y_train, y_test = train_test_split(feature_array, y_array, test_size=0.1, random_state=ii)\n",
    "        regressor = LinearRegression()\n",
    "        regressor.fit((np.array(X_train)).reshape(-1,1), y_train)\n",
    "        y_pred = regressor.predict((np.array(X_test)).reshape(-1,1))\n",
    "        mse.append(mean_squared_error(y_test,y_pred))\n",
    "    avg = float(np.average(mse))\n",
    "    print('avg rmse = ',avg)\n",
    "    print('pear_cof = ',np.abs(val1))\n",
    "    print('p-value  = ',val2)"
   ]
  },
  {
   "cell_type": "code",
   "execution_count": 5,
   "metadata": {},
   "outputs": [],
   "source": [
    "# Luca descriptor\n",
    "def formula(a,b):\n",
    "    return ((b['EA'].values-b['IP'].values)/(a['rp'].values**2))"
   ]
  },
  {
   "cell_type": "code",
   "execution_count": 6,
   "metadata": {
    "ExecuteTime": {
     "end_time": "2020-03-30T20:28:20.875024Z",
     "start_time": "2020-03-30T20:28:20.865875Z"
    }
   },
   "outputs": [],
   "source": [
    "#(rp_B - rd_A)/((rp_A**3))\n",
    "def formula(a,b):    \n",
    "    return ((b['rp'].values-a['rd'].values)/(a['rp'].values**3))\n",
    "\n",
    "#(exp(rp_A) - sqrt(fabs(rp_B)))/((rp_A**3)) #low rmse for 18000 features\n",
    "def formula(a,b):\n",
    "    return (np.exp(a['rp'].values)-np.sqrt(np.abs(b['rp'].values)))/(a['rp'].values**3)\n",
    "    \n",
    "\n",
    "#(sqrt(fabs(HOMOKS_B)) - sqrt(fabs(LUMOKS_A)))/((rp_A**3))\n",
    "def formula(a,b):    \n",
    "    return (np.sqrt(np.abs(b['HOMO'].values)) - np.sqrt(np.abs(a['LUMO'].values)))/(a['rp'].values**3)\n",
    "\n",
    "\n",
    "#high pearson coeff -  (exp(rp_A) - rp_B)/((rp_A**3))\n",
    "def formula(a,b):\n",
    "    return (np.exp(a['rp'].values)-b['rp'].values)/(a['rp'].values**3)"
   ]
  },
  {
   "cell_type": "code",
   "execution_count": 11,
   "metadata": {
    "ExecuteTime": {
     "end_time": "2020-03-30T20:28:11.467136Z",
     "start_time": "2020-03-30T20:28:09.327274Z"
    }
   },
   "outputs": [
    {
     "name": "stdout",
     "output_type": "stream",
     "text": [
      "avg rmse =  0.02523561611917982\n",
      "pear_cof =  0.9398192483687128\n",
      "p-value  =  4.613719563062014e-39\n"
     ]
    }
   ],
   "source": [
    "cross_check() #(sqrt(fabs(HOMOKS_B)) - sqrt(fabs(LUMOKS_A)))/((rp_A**3))"
   ]
  },
  {
   "cell_type": "code",
   "execution_count": 11,
   "metadata": {
    "ExecuteTime": {
     "end_time": "2020-03-30T20:28:25.423598Z",
     "start_time": "2020-03-30T20:28:23.188198Z"
    }
   },
   "outputs": [
    {
     "name": "stdout",
     "output_type": "stream",
     "text": [
      "avg rmse =  0.024361084093093326\n",
      "pear_cof =  0.9391075757445995\n",
      "p-value  =  7.281535809764828e-39\n"
     ]
    }
   ],
   "source": [
    "cross_check() #(rp_B - rd_A)/((rp_A**3))"
   ]
  },
  {
   "cell_type": "code",
   "execution_count": 7,
   "metadata": {},
   "outputs": [
    {
     "name": "stdout",
     "output_type": "stream",
     "text": [
      "avg rmse =  0.021190747068464563\n",
      "pear_cof =  0.9474855814299248\n",
      "p-value  =  2.301317180384929e-41\n"
     ]
    }
   ],
   "source": [
    "cross_check() #luca descriptor"
   ]
  },
  {
   "cell_type": "code",
   "execution_count": 30,
   "metadata": {},
   "outputs": [
    {
     "name": "stdout",
     "output_type": "stream",
     "text": [
      "avg rmse =  0.017837393344104193\n",
      "pear_cof =  0.9583208097660397\n",
      "p-value  =  2.749045963173275e-45\n"
     ]
    }
   ],
   "source": [
    "cross_check() #18000 features low rmse"
   ]
  },
  {
   "cell_type": "code",
   "execution_count": 7,
   "metadata": {},
   "outputs": [
    {
     "name": "stdout",
     "output_type": "stream",
     "text": [
      "avg rmse =  0.01891242388583298\n",
      "pear_cof =  0.9590672969687573\n",
      "p-value  =  1.3536908279966107e-45\n"
     ]
    }
   ],
   "source": [
    "cross_check() #18000 features highest pearson coeff"
   ]
  },
  {
   "cell_type": "code",
   "execution_count": 7,
   "metadata": {},
   "outputs": [
    {
     "name": "stdout",
     "output_type": "stream",
     "text": [
      "low rmse -  (exp(rp_A) - sqrt(fabs(rp_B)))/((rp_A**3))\n",
      "high pearson coeff -  (exp(rp_A) - rp_B)/((rp_A**3))\n"
     ]
    }
   ],
   "source": [
    "df = pd.read_csv('first_18000_files.csv')\n",
    "del df['Unnamed: 0']\n",
    "print('low rmse - ',(df[df['rmse'] == np.min(df['rmse'].values)])['formulas'].values[0])\n",
    "print('high pearson coeff - ',(df[df['pearson_coeff'] == np.max(df['pearson_coeff'].values)])['formulas'].values[0])"
   ]
  },
  {
   "cell_type": "code",
   "execution_count": null,
   "metadata": {},
   "outputs": [],
   "source": []
  }
 ],
 "metadata": {
  "kernelspec": {
   "display_name": "Python 3",
   "language": "python",
   "name": "python3"
  },
  "language_info": {
   "codemirror_mode": {
    "name": "ipython",
    "version": 3
   },
   "file_extension": ".py",
   "mimetype": "text/x-python",
   "name": "python",
   "nbconvert_exporter": "python",
   "pygments_lexer": "ipython3",
   "version": "3.7.6"
  },
  "toc": {
   "base_numbering": 1,
   "nav_menu": {},
   "number_sections": true,
   "sideBar": true,
   "skip_h1_title": false,
   "title_cell": "Table of Contents",
   "title_sidebar": "Contents",
   "toc_cell": false,
   "toc_position": {},
   "toc_section_display": true,
   "toc_window_display": false
  }
 },
 "nbformat": 4,
 "nbformat_minor": 2
}
