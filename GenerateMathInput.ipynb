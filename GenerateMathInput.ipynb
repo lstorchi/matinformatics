{
 "cells": [
  {
   "cell_type": "code",
   "execution_count": 12,
   "metadata": {},
   "outputs": [],
   "source": [
    "import pandas as pd\n",
    "import numpy as np \n",
    "\n",
    "filename = \"./data/OAD.xlsx\"\n",
    "atomicsheetname = \"OAD\"\n",
    "materisheetname = \"MaterialData\"\n",
    "\n",
    "xls = pd.ExcelFile(filename)\n",
    "matdata = pd.read_excel(xls, materisheetname)\n",
    "atodata = pd.read_excel(xls, atomicsheetname)\n",
    "\n",
    "de = list(matdata[\"DE\"].values)\n",
    "a = list(matdata[\"A\"].values)\n",
    "b = list(matdata[\"B\"].values)\n",
    "\n",
    "atomsa = matdata[\"A\"].values\n",
    "atomsb = matdata[\"B\"].values\n"
   ]
  },
  {
   "cell_type": "code",
   "execution_count": 16,
   "metadata": {},
   "outputs": [],
   "source": [
    "atofeatures = ['IP', 'EA', 'HOMO', 'LUMO', 'rs', 'rp', 'rd']\n",
    "\n",
    "df = {}\n",
    "df[\"DE\"] = de\n",
    "df[\"A\"] = a\n",
    "df[\"B\"] = b\n",
    "for af in atofeatures:\n",
    "    df[af+\"_A\"] = []\n",
    "    df[af+\"_B\"] = []\n",
    "\n",
    "\n",
    "for a, b in zip(atomsa, atomsb):\n",
    "    a = a.replace(\" \", \"\")\n",
    "    b = b.replace(\" \", \"\")\n",
    "\n",
    "    for af in atofeatures:\n",
    "       df[af+\"_A\"].append(atodata[atodata[\"A\"] == a][af].values[0])\n",
    "       df[af+\"_B\"].append(atodata[atodata[\"A\"] == b][af].values[0])\n",
    "\n",
    "ddf = pd.DataFrame.from_dict(df)\n",
    "ddf.to_excel(\"OADMath.xlsx\") "
   ]
  },
  {
   "cell_type": "code",
   "execution_count": null,
   "metadata": {},
   "outputs": [],
   "source": [
    "\n"
   ]
  }
 ],
 "metadata": {
  "kernelspec": {
   "name": "python385jvsc74a57bd0916dbcbb3f70747c44a77c7bcd40155683ae19c65e1c03b4aa3499c5328201f1",
   "display_name": "Python 3.8.5 64-bit"
  },
  "language_info": {
   "codemirror_mode": {
    "name": "ipython",
    "version": 3
   },
   "file_extension": ".py",
   "mimetype": "text/x-python",
   "name": "python",
   "nbconvert_exporter": "python",
   "pygments_lexer": "ipython3",
   "version": "3.8.5"
  },
  "metadata": {
   "interpreter": {
    "hash": "916dbcbb3f70747c44a77c7bcd40155683ae19c65e1c03b4aa3499c5328201f1"
   }
  }
 },
 "nbformat": 4,
 "nbformat_minor": 4
}