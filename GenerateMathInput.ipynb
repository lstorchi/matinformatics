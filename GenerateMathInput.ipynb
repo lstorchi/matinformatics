{
 "cells": [
  {
   "cell_type": "code",
   "execution_count": 1,
   "metadata": {},
   "outputs": [
    {
     "output_type": "error",
     "ename": "ModuleNotFoundError",
     "evalue": "No module named 'pandas'",
     "traceback": [
      "\u001b[0;31m---------------------------------------------------------------------------\u001b[0m",
      "\u001b[0;31mModuleNotFoundError\u001b[0m                       Traceback (most recent call last)",
      "\u001b[0;32m<ipython-input-1-d42e5f9a977a>\u001b[0m in \u001b[0;36m<module>\u001b[0;34m\u001b[0m\n\u001b[0;32m----> 1\u001b[0;31m \u001b[0;32mimport\u001b[0m \u001b[0mpandas\u001b[0m \u001b[0;32mas\u001b[0m \u001b[0mpd\u001b[0m\u001b[0;34m\u001b[0m\u001b[0;34m\u001b[0m\u001b[0m\n\u001b[0m\u001b[1;32m      2\u001b[0m \u001b[0;32mimport\u001b[0m \u001b[0mnumpy\u001b[0m \u001b[0;32mas\u001b[0m \u001b[0mnp\u001b[0m\u001b[0;34m\u001b[0m\u001b[0;34m\u001b[0m\u001b[0m\n\u001b[1;32m      3\u001b[0m \u001b[0;34m\u001b[0m\u001b[0m\n\u001b[1;32m      4\u001b[0m \u001b[0mfilename\u001b[0m \u001b[0;34m=\u001b[0m \u001b[0;34m\"./data/OAD.xlsx\"\u001b[0m\u001b[0;34m\u001b[0m\u001b[0;34m\u001b[0m\u001b[0m\n\u001b[1;32m      5\u001b[0m \u001b[0matomicsheetname\u001b[0m \u001b[0;34m=\u001b[0m \u001b[0;34m\"OAD\"\u001b[0m\u001b[0;34m\u001b[0m\u001b[0;34m\u001b[0m\u001b[0m\n",
      "\u001b[0;31mModuleNotFoundError\u001b[0m: No module named 'pandas'"
     ]
    }
   ],
   "source": [
    "import pandas as pd\n",
    "import numpy as np \n",
    "\n",
    "filename = \"./data/OAD.xlsx\"\n",
    "atomicsheetname = \"OAD\"\n",
    "materisheetname = \"MaterialData\"\n",
    "\n",
    "xls = pd.ExcelFile(filename)\n",
    "matdata = pd.read_excel(xls, materisheetname)\n",
    "atodata = pd.read_excel(xls, atomicsheetname)\n",
    "\n",
    "de = list(matdata[\"DE\"].values)\n",
    "a = list(matdata[\"A\"].values)\n",
    "b = list(matdata[\"B\"].values)\n",
    "\n",
    "atomsa = matdata[\"A\"].values\n",
    "atomsb = matdata[\"B\"].values\n"
   ]
  },
  {
   "cell_type": "code",
   "execution_count": null,
   "metadata": {},
   "outputs": [],
   "source": [
    "atofeatures = ['IP', 'EA', 'HOMO', 'LUMO', 'rs', 'rp', 'rd']\n",
    "\n",
    "df = {}\n",
    "df[\"DE\"] = de\n",
    "df[\"A\"] = a\n",
    "df[\"B\"] = b\n",
    "for af in atofeatures:\n",
    "    df[af+\"_A\"] = []\n",
    "    df[af+\"_B\"] = []\n",
    "\n",
    "\n",
    "for a, b in zip(atomsa, atomsb):\n",
    "    a = a.replace(\" \", \"\")\n",
    "    b = b.replace(\" \", \"\")\n",
    "\n",
    "    for af in atofeatures:\n",
    "       df[af+\"_A\"].append(atodata[atodata[\"A\"] == a][af].values[0])\n",
    "       df[af+\"_B\"].append(atodata[atodata[\"A\"] == b][af].values[0])\n",
    "\n",
    "ddf = pd.DataFrame.from_dict(df)\n",
    "ddf.to_excel(\"OADMath.xlsx\") "
   ]
  },
  {
   "cell_type": "code",
   "execution_count": null,
   "metadata": {},
   "outputs": [],
   "source": [
    "\n"
   ]
  }
 ],
 "metadata": {
  "kernelspec": {
   "name": "python3",
   "display_name": "Python 3.6.13 64-bit ('oldpythoneenv': conda)"
  },
  "language_info": {
   "codemirror_mode": {
    "name": "ipython",
    "version": 3
   },
   "file_extension": ".py",
   "mimetype": "text/x-python",
   "name": "python",
   "nbconvert_exporter": "python",
   "pygments_lexer": "ipython3",
   "version": "3.6.13"
  },
  "metadata": {
   "interpreter": {
    "hash": "916dbcbb3f70747c44a77c7bcd40155683ae19c65e1c03b4aa3499c5328201f1"
   }
  },
  "interpreter": {
   "hash": "12717284c5c80ea05b986b47f5a5d4f4115a8e3a0dcbe48eeb8f2dd4f8d219ff"
  }
 },
 "nbformat": 4,
 "nbformat_minor": 4
}