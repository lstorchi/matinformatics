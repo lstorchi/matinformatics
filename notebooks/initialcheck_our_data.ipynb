{
 "cells": [
  {
   "cell_type": "code",
   "execution_count": 9,
   "metadata": {},
   "outputs": [],
   "source": [
    "import pandas as pd\n",
    "\n",
    "xls = pd.ExcelFile(\"./data/param.xlsx\")\n",
    "\n",
    "#print(xls.sheet_names)\n",
    "\n",
    "data = pd.read_excel(xls, \"param\")\n",
    "\n",
    "atoms = set()\n",
    "\n",
    "for material in data[\"Name\"]:\n",
    "    for atom in material.split():\n",
    "        atoms.add(atom.rstrip().lstrip())\n",
    "        \n",
    "atomicdata = pd.read_excel(xls, \"atomicdata\")\n",
    "\n",
    "atoms_data = set()\n",
    "\n",
    "for atom in atomicdata[\"Name\"]:\n",
    "    atoms_data.add(atom.rstrip().lstrip())\n",
    "\n",
    "for a in atoms:\n",
    "    if not (a in atoms_data):\n",
    "        print(\"Atomic data of \", a , \" is missed\")\n",
    "        \n"
   ]
  },
  {
   "cell_type": "code",
   "execution_count": null,
   "metadata": {},
   "outputs": [],
   "source": []
  }
 ],
 "metadata": {
  "kernelspec": {
   "display_name": "Python 3",
   "language": "python",
   "name": "python3"
  },
  "language_info": {
   "codemirror_mode": {
    "name": "ipython",
    "version": 3
   },
   "file_extension": ".py",
   "mimetype": "text/x-python",
   "name": "python",
   "nbconvert_exporter": "python",
   "pygments_lexer": "ipython3",
   "version": "3.6.9"
  }
 },
 "nbformat": 4,
 "nbformat_minor": 2
}
