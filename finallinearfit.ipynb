{
 "cells": [
  {
   "cell_type": "code",
   "execution_count": null,
   "metadata": {},
   "outputs": [],
   "source": [
    "import sys\n",
    "import matplotlib.pyplot as plt\n",
    "import numpy as np\n",
    "import pandas as pd\n",
    "\n",
    "from sklearn.linear_model import LinearRegression\n",
    "\n",
    "\n",
    "sys.path.append(\"./common/\")\n",
    "\n",
    "import matinfmod \n",
    "\n",
    "fname = \"./FENAD_gen_1/PEAFE/newadata.pkl\"\n",
    "\n",
    "df = pd.read_pickle(fname)"
   ]
  },
  {
   "cell_type": "code",
   "execution_count": null,
   "metadata": {},
   "outputs": [],
   "source": [
    "x = df[\"(EA_B - sqrt(fabs(IP_C)))/(exp(rs_A))\"].values\n",
    "\n",
    "data = pd.read_csv(\"./data/FENAD.csv\")\n",
    "y = data[\"PE-AFE\"].values\n",
    "labels = data[\"Name\"]\n",
    "\n",
    "print(y.shape, x.shape)\n",
    "\n",
    "regressor = LinearRegression()\n",
    "regressor.fit(x.reshape(-1,1), y)\n",
    "\n",
    "y_pred = regressor.predict(x.reshape(-1,1))\n",
    "\n",
    "print('Coefficients: \\n', regressor.coef_)\n",
    "print('Intecept: \\n', regressor.intercept_)\n"
   ]
  },
  {
   "cell_type": "code",
   "execution_count": null,
   "metadata": {},
   "outputs": [],
   "source": [
    "#plt.scatter(x, y,  color='black')\n",
    "#plt.plot(x, y_pred, color='blue', linewidth=3)\n",
    "\n",
    "\n",
    "plt.scatter(y_pred, y,  color='black')\n",
    "\n",
    "i = 0\n",
    "for x,y in zip(y_pred,y):\n",
    "    label = labels[i]\n",
    "\n",
    "    plt.annotate(label, # this is the text\n",
    "                 (x,y), # this is the point to label\n",
    "                 textcoords=\"offset points\", # how to position the text\n",
    "                 xytext=(0,10), # distance from text to points (x,y)\n",
    "                 ha='center') # horizontal alignment can be left, right or center\n",
    "\n",
    "    i += 1\n",
    "\n",
    "#plt.xticks(())\n",
    "#plt.yticks(())\n",
    "\n",
    "plt.show()"
   ]
  },
  {
   "cell_type": "code",
   "execution_count": null,
   "metadata": {},
   "outputs": [],
   "source": []
  }
 ],
 "metadata": {
  "kernelspec": {
   "display_name": "Python 3",
   "language": "python",
   "name": "python3"
  },
  "language_info": {
   "codemirror_mode": {
    "name": "ipython",
    "version": 3
   },
   "file_extension": ".py",
   "mimetype": "text/x-python",
   "name": "python",
   "nbconvert_exporter": "python",
   "pygments_lexer": "ipython3",
   "version": "3.8.5-final"
  }
 },
 "nbformat": 4,
 "nbformat_minor": 4
}