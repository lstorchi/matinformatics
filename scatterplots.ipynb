{
 "cells": [
  {
   "cell_type": "code",
   "execution_count": 4,
   "metadata": {},
   "outputs": [],
   "source": [
    "import pandas as pd\n",
    "import numpy as np \n",
    "\n",
    "filename = \"./data/FENAD.xlsx\"\n",
    "atomicsheetname = \"NAD AtomicData\"\n",
    "materisheetname = \"poolished_revised_list\"\n",
    "\n",
    "labelname = \"PE-AFE\"\n",
    "atomiclbl = \"IP\"\n",
    "\n",
    "df = pd.read_excel(filename)\n",
    "\n",
    "xls = pd.ExcelFile(filename)\n",
    "matdata = pd.read_excel(xls, materisheetname)\n",
    "atodata = pd.read_excel(xls, atomicsheetname)"
   ]
  },
  {
   "cell_type": "code",
   "execution_count": 7,
   "metadata": {},
   "outputs": [
    {
     "name": "stdout",
     "output_type": "stream",
     "text": [
      "[0.158      0.14       0.165      0.15       0.119      0.088\n",
      " 0.052      0.056      0.251      0.224      0.236      0.336\n",
      " 0.109      0.223      0.237      0.125      0.204      0.203\n",
      " 0.148      0.224      0.234      0.112      0.111      0.32\n",
      " 0.211      0.373      0.236      0.297      0.404      0.461\n",
      " 0.433      0.028      0.057      0.001      0.001      0.153\n",
      " 0.038      0.002      0.064      0.206      0.151      0.275\n",
      " 0.213      0.123      0.249      0.237      0.117      0.178\n",
      " 0.21       0.139      0.13       0.169      0.38       0.354\n",
      " 0.287      0.1957     0.0917     0.4796     0.1963     0.0916\n",
      " 0.1655     0.0428     0.4419     0.3766     0.1532     0.2984\n",
      " 0.3072     0.1132     0.3078     0.21712    0.454074   0.102255\n",
      " 0.013496   0.00763578 0.00847051 0.314372   0.250448   0.256659\n",
      " 0.440922   0.299729   0.0101577  0.0119589  0.223407   0.159246\n",
      " 0.236749   0.203638   0.33803    0.250086   0.163279   0.0518639\n",
      " 0.090861   0.0127223  0.0178824  0.00319686 0.413917   0.497292\n",
      " 0.242496   0.0727151  0.0999978  0.0362271  0.296786   0.200975\n",
      " 0.299575   0.414037   0.261694   0.459929   0.0159537  0.0013522\n",
      " 0.499227   0.336761   0.279388   0.170968   0.354147   0.323961\n",
      " 0.380853  ]\n",
      "['NaLiSe' 'NaLiTe' 'KNaS' 'KNaSe' 'KNaTe' 'CaLiSb' 'SrLiSb' 'SrLiBi'\n",
      " 'NaCdAs' 'NaCdSb' 'ScNiP' 'ScPtP' 'ScCuSi' 'CaMgSi' 'CaMgGe' 'CaMgSn'\n",
      " 'SrMgSi' 'SrMgGe' 'SrMgSn' 'SrCaSi' 'SrCaGe' 'SrCaSn' 'SrCaPb' 'BaCaGe'\n",
      " 'BaCaSn' 'TiNiSi' 'TiNiGe' 'TiPdGe' 'TiPtSi' 'ZrPtGe' 'HfPtGe' 'SrLiAs'\n",
      " 'KSrP' 'KSrSb' 'KSrBi' 'RbSrAs' 'RbSrBi' 'SrAuP' 'LaLiSi' 'NaInGe'\n",
      " 'BaSrSn' 'MgLiP' 'LiZnP' 'LiBeAs' 'MgLiAs' 'LiZnAs' 'LiBeSb' 'MgLiSb'\n",
      " 'LiZnSb' 'LiBeBi' 'MgLiBi' 'LiZnBi' 'NaMgP' 'NaMgAs' 'NaMgSb' 'BaPbCa'\n",
      " 'CaAsLi' 'BaNLi' 'CaNLi' 'CaPLi' 'CsNMg' 'RbNMg' 'BaNNa' 'NaNCa' 'NaNCd'\n",
      " 'NaNMg' 'NaNPd' 'CsNZn' 'CsORb' 'AgNaSe' 'BaRbAs' 'CaBaSi' 'CaBaSn'\n",
      " 'CaSrPb' 'CaSrSn' 'CdNaAs' 'CdNaSb' 'GeHfPt' 'GeTiPd' 'InNaGe' 'LiCaBi'\n",
      " 'LiCaSb' 'LiMgAs' 'LiMgBi' 'LiMgP' 'LiMgSb' 'LiNaSe' 'LiNaTe' 'LiSrAs'\n",
      " 'LiSrBi' 'LiSrSb' 'MgCaGe' 'MgCaSi' 'MgCaSn' 'MgNaAs' 'MgNaP' 'MgNaSb'\n",
      " 'MgSrGe' 'MgSrSi' 'MgSrSn' 'NaKSe' 'NaKTe' 'PSrAu' 'SiHfPd' 'SiTiNi'\n",
      " 'SiZrPt' 'SrBaSn' 'SrKBi' 'SrKP' 'SrRbBi' 'ZnLiAs' 'ZnLiBi' 'ZnLiP'\n",
      " 'ZnLiSb' 'ZnNaBi']\n"
     ]
    }
   ],
   "source": [
    "yval = matdata[labelname].values\n",
    "matname = matdata[\"Name\"].values\n",
    "\n",
    "print(yval)\n",
    "print(matname)"
   ]
  },
  {
   "cell_type": "code",
   "execution_count": null,
   "metadata": {},
   "outputs": [],
   "source": []
  }
 ],
 "metadata": {
  "kernelspec": {
   "display_name": "Python 3",
   "language": "python",
   "name": "python3"
  },
  "language_info": {
   "codemirror_mode": {
    "name": "ipython",
    "version": 3
   },
   "file_extension": ".py",
   "mimetype": "text/x-python",
   "name": "python",
   "nbconvert_exporter": "python",
   "pygments_lexer": "ipython3",
   "version": "3.8.5"
  }
 },
 "nbformat": 4,
 "nbformat_minor": 4
}
